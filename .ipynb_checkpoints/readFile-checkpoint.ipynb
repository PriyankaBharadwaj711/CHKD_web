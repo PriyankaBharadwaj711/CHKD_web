{
 "cells": [
  {
   "cell_type": "code",
   "execution_count": 68,
   "metadata": {},
   "outputs": [
    {
     "data": {
      "text/plain": [
       "bs4.BeautifulSoup"
      ]
     },
     "execution_count": 68,
     "metadata": {},
     "output_type": "execute_result"
    }
   ],
   "source": [
    "from bs4 import BeautifulSoup\n",
    "import json\n",
    "f = open(\"index_yg.html\", \"r\")\n",
    "# print(f.read())\n",
    "type(str(f))\n",
    "# trauma = f.split(\".\")\n",
    "# trauma\n",
    "soup = BeautifulSoup(f, 'lxml')\n",
    "type(soup)"
   ]
  },
  {
   "cell_type": "code",
   "execution_count": 20,
   "metadata": {},
   "outputs": [
    {
     "data": {
      "text/plain": [
       "<a class=\"closebtn\" href=\"javascript:void(0)\" onclick=\"closeNav()\">X</a>"
      ]
     },
     "execution_count": 20,
     "metadata": {},
     "output_type": "execute_result"
    }
   ],
   "source": [
    "# link = soup.find('a')\n",
    "# link"
   ]
  },
  {
   "cell_type": "code",
   "execution_count": 10,
   "metadata": {},
   "outputs": [
    {
     "data": {
      "text/plain": [
       "<p>Michele was special. Once you met her, you couldn't imagine a time without her. She had that unique ability to make you feel better about yourself. You liked who you were when you were with her. You missed her when she wasn't around.\n",
       "                    </p>"
      ]
     },
     "execution_count": 10,
     "metadata": {},
     "output_type": "execute_result"
    }
   ],
   "source": [
    "# soup.find('p')"
   ]
  },
  {
   "cell_type": "code",
   "execution_count": 21,
   "metadata": {},
   "outputs": [
    {
     "data": {
      "text/plain": [
       "dict"
      ]
     },
     "execution_count": 21,
     "metadata": {},
     "output_type": "execute_result"
    }
   ],
   "source": [
    "# type(link.attrs)"
   ]
  },
  {
   "cell_type": "code",
   "execution_count": 22,
   "metadata": {},
   "outputs": [
    {
     "data": {
      "text/plain": [
       "{'href': 'javascript:void(0)', 'class': ['closebtn'], 'onclick': 'closeNav()'}"
      ]
     },
     "execution_count": 22,
     "metadata": {},
     "output_type": "execute_result"
    }
   ],
   "source": [
    "# link.attrs"
   ]
  },
  {
   "cell_type": "code",
   "execution_count": 91,
   "metadata": {},
   "outputs": [
    {
     "name": "stdout",
     "output_type": "stream",
     "text": [
      "80\n",
      "80\n"
     ]
    },
    {
     "ename": "NameError",
     "evalue": "name 'data' is not defined",
     "output_type": "error",
     "traceback": [
      "\u001b[0;31m---------------------------------------------------------------------------\u001b[0m",
      "\u001b[0;31mNameError\u001b[0m                                 Traceback (most recent call last)",
      "\u001b[0;32m<ipython-input-91-51f76ddd948e>\u001b[0m in \u001b[0;36m<module>\u001b[0;34m\u001b[0m\n\u001b[1;32m     10\u001b[0m \u001b[0mprint\u001b[0m\u001b[0;34m(\u001b[0m\u001b[0mlen\u001b[0m\u001b[0;34m(\u001b[0m\u001b[0mconfigArray\u001b[0m\u001b[0;34m)\u001b[0m\u001b[0;34m)\u001b[0m\u001b[0;34m\u001b[0m\u001b[0;34m\u001b[0m\u001b[0m\n\u001b[1;32m     11\u001b[0m \u001b[0;32mwith\u001b[0m \u001b[0mopen\u001b[0m\u001b[0;34m(\u001b[0m\u001b[0;34m'data.json'\u001b[0m\u001b[0;34m,\u001b[0m \u001b[0;34m'w'\u001b[0m\u001b[0;34m)\u001b[0m \u001b[0;32mas\u001b[0m \u001b[0moutfile\u001b[0m\u001b[0;34m:\u001b[0m\u001b[0;34m\u001b[0m\u001b[0;34m\u001b[0m\u001b[0m\n\u001b[0;32m---> 12\u001b[0;31m     \u001b[0mjson\u001b[0m\u001b[0;34m.\u001b[0m\u001b[0mdump\u001b[0m\u001b[0;34m(\u001b[0m\u001b[0mdata\u001b[0m\u001b[0;34m,\u001b[0m \u001b[0mconfigArray\u001b[0m\u001b[0;34m)\u001b[0m\u001b[0;34m\u001b[0m\u001b[0;34m\u001b[0m\u001b[0m\n\u001b[0m",
      "\u001b[0;31mNameError\u001b[0m: name 'data' is not defined"
     ]
    }
   ],
   "source": [
    "mainresult = soup.find(\"div\", {\"id\": \"divToSearch\"})\n",
    "resultSet = mainresult.find_all('div',recursive=False)\n",
    "\n",
    "configArray = []\n",
    "print(len(resultSet))\n",
    "for section in resultSet:\n",
    "    #print(section.text)\n",
    "    configArray.append({\"id\":section.get('id'),\"body\":section.text.encode('ascii', 'ignore').decode('ascii').replace('\"','').replace('\\n','').replace(\"\\'\",'').replace('/',' ')})\n",
    "\n",
    "print(len(configArray))\n",
    "with open('data.json', 'w') as outfile:\n",
    "    json.dump(configArray, outfile)\n",
    "# json.dumps(configArray)"
   ]
  },
  {
   "cell_type": "code",
   "execution_count": 26,
   "metadata": {},
   "outputs": [
    {
     "data": {
      "text/plain": [
       "438"
      ]
     },
     "execution_count": 26,
     "metadata": {},
     "output_type": "execute_result"
    }
   ],
   "source": [
    "len(soup.find_all('p'))"
   ]
  },
  {
   "cell_type": "code",
   "execution_count": 29,
   "metadata": {},
   "outputs": [
    {
     "data": {
      "text/plain": [
       "[<h1 class=\"h1Green\">Trauma Activations\n",
       "                     \n",
       "                 </h1>,\n",
       " <h1 class=\"h1orange\">Primary Survey Algorithms\n",
       "                     \n",
       "                 </h1>,\n",
       " <h1 class=\"h1navyBlue\">Neurological/Spine Trauma\n",
       "                     \n",
       "                 </h1>,\n",
       " <h1 class=\"h1pink\">Penetrating Trauma\n",
       "                     \n",
       "                 </h1>,\n",
       " <h1 class=\"h1lightBlue\">Blunt Trauma\n",
       "                     \n",
       "                 </h1>,\n",
       " <h1 class=\"h1purple\">Other Issues\n",
       "                     \n",
       "                 </h1>,\n",
       " <h1 class=\"h1red\">Burns\n",
       "                     \n",
       "                 </h1>,\n",
       " <h1 class=\"h1blue\">Special Issues\n",
       "                     \n",
       "                 </h1>]"
      ]
     },
     "execution_count": 29,
     "metadata": {},
     "output_type": "execute_result"
    }
   ],
   "source": [
    "# soup.find_all('h1')"
   ]
  },
  {
   "cell_type": "code",
   "execution_count": 38,
   "metadata": {},
   "outputs": [
    {
     "data": {
      "text/plain": [
       "8"
      ]
     },
     "execution_count": 38,
     "metadata": {},
     "output_type": "execute_result"
    }
   ],
   "source": [
    "text = \"Michele was special. Once you met her, you couldn't imagine a time without her. She had that unique ability to make you feel better about yourself. You liked who you were when you were with her. You missed her when she wasn't around.Her husband Joe posted an entry on face book for her birthday, October 23. When I read it I didn't think that I could do better at describing how Michele affected everyone who came in contact with her and how she approached life. With his permissil\"\n",
    "x = text.split(\".\")\n",
    "len(x)\n"
   ]
  },
  {
   "cell_type": "code",
   "execution_count": 36,
   "metadata": {},
   "outputs": [
    {
     "name": "stdout",
     "output_type": "stream",
     "text": [
      "['Michele was special', \" Once you met her, you couldn't imagine a time without her\", ' She had that unique ability to make you feel better about yourself', ' You liked who you were when you were with her', \" You missed her when she wasn't around\", 'Her husband Joe posted an entry on face book for her birthday, October 23', \" When I read it I didn't think that I could do better at describing how Michele affected everyone who came in contact with her and how she approached life\", ' With his permissil']\n"
     ]
    }
   ],
   "source": [
    "print(x)"
   ]
  },
  {
   "cell_type": "code",
   "execution_count": 46,
   "metadata": {},
   "outputs": [
    {
     "ename": "AttributeError",
     "evalue": "'_io.TextIOWrapper' object has no attribute 'split'",
     "output_type": "error",
     "traceback": [
      "\u001b[0;31m---------------------------------------------------------------------------\u001b[0m",
      "\u001b[0;31mAttributeError\u001b[0m                            Traceback (most recent call last)",
      "\u001b[0;32m<ipython-input-46-7a9e44bb7e5c>\u001b[0m in \u001b[0;36m<module>\u001b[0;34m\u001b[0m\n\u001b[0;32m----> 1\u001b[0;31m \u001b[0mtrauma\u001b[0m \u001b[0;34m=\u001b[0m \u001b[0mf\u001b[0m\u001b[0;34m.\u001b[0m\u001b[0msplit\u001b[0m\u001b[0;34m(\u001b[0m\u001b[0;34m\".\"\u001b[0m\u001b[0;34m)\u001b[0m\u001b[0;34m\u001b[0m\u001b[0;34m\u001b[0m\u001b[0m\n\u001b[0m",
      "\u001b[0;31mAttributeError\u001b[0m: '_io.TextIOWrapper' object has no attribute 'split'"
     ]
    }
   ],
   "source": []
  },
  {
   "cell_type": "code",
   "execution_count": null,
   "metadata": {},
   "outputs": [],
   "source": []
  }
 ],
 "metadata": {
  "kernelspec": {
   "display_name": "Python 3",
   "language": "python",
   "name": "python3"
  },
  "language_info": {
   "codemirror_mode": {
    "name": "ipython",
    "version": 3
   },
   "file_extension": ".py",
   "mimetype": "text/x-python",
   "name": "python",
   "nbconvert_exporter": "python",
   "pygments_lexer": "ipython3",
   "version": "3.8.5"
  }
 },
 "nbformat": 4,
 "nbformat_minor": 4
}
